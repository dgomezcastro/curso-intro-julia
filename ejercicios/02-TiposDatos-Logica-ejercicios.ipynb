{
 "cells": [
  {
   "cell_type": "markdown",
   "metadata": {},
   "source": [
    "# Sesión 2\n",
    "## Tipos de datos. Lógica"
   ]
  },
  {
   "cell_type": "markdown",
   "metadata": {},
   "source": [
    "### Ejercicio. El $\\varepsilon$ de máquina\n",
    "\n",
    "Se define $\\varepsilon$ de máquina a la distancia entre 1.0 y el siguiente número flotante. En `julia` se puede calcular el siguiente flotante utilizando `nextfloat`. Por ejemplo `nextfloat(1.0)`.\n",
    "\n",
    "Calcule $\\varepsilon$ de máquina para los tipos `Float16`, `Float32`, y `Float64` (por defecto) y almacénelos en variables `ε16`, `ε32`, `ε164`. \n",
    "\n",
    "Calcule $log_2$ de estos valores y explique el resultado."
   ]
  },
  {
   "cell_type": "code",
   "execution_count": null,
   "metadata": {},
   "outputs": [],
   "source": []
  },
  {
   "cell_type": "code",
   "execution_count": null,
   "metadata": {},
   "outputs": [],
   "source": [
    "using Test\n",
    "@test ε16 == Float16(0.000977)\n",
    "@test ε32 == 1.1920929f-7\n",
    "@test ε64 == 2.220446049250313e-16"
   ]
  },
  {
   "cell_type": "markdown",
   "metadata": {},
   "source": [
    "En algunas situaciones los errores de redondeo (dados por la acumulación de $\\varepsilon$ de máquina) produce errores graves en el mundo real.\n",
    "\n",
    "[Ver link](https://web.ma.utexas.edu/users/arbogast/misc/disasters.html)"
   ]
  },
  {
   "cell_type": "markdown",
   "metadata": {},
   "source": [
    "### Ejercicio. Vector de la sucesión de Fibonacci\n",
    "\n",
    "Cree un vector que contenga los 20 primeros elementos de la sucesión de Fibonacci, y almacénelo en un vector llamado `fib`"
   ]
  },
  {
   "cell_type": "code",
   "execution_count": null,
   "metadata": {},
   "outputs": [],
   "source": []
  },
  {
   "cell_type": "code",
   "execution_count": null,
   "metadata": {},
   "outputs": [],
   "source": [
    "@test fib == [1, 1, 2, 3, 5, 8, 13, 21, 34, 55, 89, 144, 233, 377, 610, 987, 1597, 2584, 4181, 6765]"
   ]
  },
  {
   "cell_type": "markdown",
   "metadata": {},
   "source": [
    "### Ejercicio. Matriz identidad\n",
    "\n",
    "Utilizar dos bucles `for` anidados para construir la matriz identidad de $10 \\times 10$, y almacenarlo en una matriz llamada `A`"
   ]
  },
  {
   "cell_type": "code",
   "execution_count": null,
   "metadata": {},
   "outputs": [],
   "source": []
  },
  {
   "cell_type": "code",
   "execution_count": null,
   "metadata": {},
   "outputs": [],
   "source": [
    "@test A == one(zeros(10, 10))"
   ]
  },
  {
   "cell_type": "markdown",
   "metadata": {},
   "source": [
    "### Ejercicio. La función de Ackermann\n",
    "\n",
    "Programar la función de Ackerman definida como \n",
    "$$\n",
    "A(m, n) = \n",
    "    \\begin{cases} \n",
    "        n+1 & \\textrm{if } m = 0 \\\\ \n",
    "        A(m-1, 1)& \\textrm{if } m > 0 \\textrm{ and } n = 0 \\\\ \n",
    "        A(m-1, A(m, n-1))& \\textrm{if } m > 0 \\textrm{ and }n > 0. \n",
    "    \\end{cases} \n",
    "$$"
   ]
  },
  {
   "cell_type": "code",
   "execution_count": null,
   "metadata": {},
   "outputs": [],
   "source": []
  },
  {
   "cell_type": "code",
   "execution_count": null,
   "metadata": {},
   "outputs": [],
   "source": [
    "# include(\"soluciones/02-ackermann.jl\")\n",
    "@test ackermann(3, 4) == 125"
   ]
  },
  {
   "cell_type": "markdown",
   "metadata": {},
   "source": [
    "### Ejercicio. Ordenación de vectores\n",
    "\n",
    "Escriba una función llamada `my_sort` que reciba un vector de números y devuelve el vector con las componentes ordenadas de manera creciente. Cada elemento debe aparecer tantas veces en el vector ordenado como el vector original. \n",
    "\n",
    "Puede implementar cualquier algoritmo de ordenación."
   ]
  },
  {
   "cell_type": "code",
   "execution_count": null,
   "metadata": {},
   "outputs": [],
   "source": []
  },
  {
   "cell_type": "code",
   "execution_count": null,
   "metadata": {},
   "outputs": [],
   "source": [
    "# include(\"soluciones/02-sorting.jl\")\n",
    "@test my_sort([3, 2, 1]) == [1, 2, 3]\n",
    "@test my_sort([-3, 2, 2, 1]) == [-3, 1, 2, 2]\n",
    "v = rand(20)\n",
    "@test my_sort(v) == sort(v)"
   ]
  }
 ],
 "metadata": {
  "kernelspec": {
   "display_name": "Julia 1.11.3",
   "language": "julia",
   "name": "julia-1.11"
  },
  "language_info": {
   "file_extension": ".jl",
   "mimetype": "application/julia",
   "name": "julia",
   "version": "1.11.3"
  }
 },
 "nbformat": 4,
 "nbformat_minor": 2
}
