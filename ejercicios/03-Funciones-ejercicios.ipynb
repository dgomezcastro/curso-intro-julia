{
  "cells": [
    {
      "cell_type": "markdown",
      "metadata": {},
      "source": [
        "---\n",
        "title: \"Funciones. Multiple dispatch\"\n",
        "subtitle: \"Ejercicios\"\n",
        "---\n",
        "\n",
        "# Ejercicios canónicos\n",
        "\n",
        "## Sucesión de Fibonacci mediante recursión\n",
        "\n",
        "Calcule el elemento $n$-ésimo de la sucesión de Fibonacci usando recursión\n",
        "\n",
        "## Suma cuadrados\n",
        "\n",
        "a) Escriba una función llamada `suma_cuadrados` que acepte el número natural $n$ y devuelva la suma $1^2 + 2^2 + \\cdots + (n-1)^2 + n^2$"
      ]
    },
    {
      "cell_type": "code",
      "metadata": {},
      "source": [
        "@test suma_cuadrados(1) == 1\n",
        "@test suma_cuadrados(2) == 9\n",
        "@test suma_cuadrados(100) == 338350"
      ],
      "execution_count": null,
      "outputs": []
    },
    {
      "cell_type": "markdown",
      "metadata": {},
      "source": [
        "b) Escribe una función llamada `fizz_buzz` que acepte un número y\n",
        "- Si el número es divisible por 3 pero no 5, escriba \"Fizz\" (sin comillas)\n",
        "- Si el número es divisible por 5 pero no 3, escriba \"Buzz\" (sin comillas)\n",
        "- Si el número es divisible por 3 y 5, escriba \"FizzBuzz\" (sin comillas)\n",
        "- En otro caso, escriba el propio número\n"
      ]
    },
    {
      "cell_type": "code",
      "metadata": {},
      "source": [
        "@test fizz_buzz(1) == 1\n",
        "@test fizz_buzz(3) == \"Fizz\"\n",
        "@test fizz_buzz(5) == \"Buzz\"\n",
        "@test fizz_buzz(15) == \"FizzBuzz\"\n",
        "@test fizz_buzz(16) == 16"
      ],
      "execution_count": null,
      "outputs": []
    },
    {
      "cell_type": "markdown",
      "metadata": {},
      "source": [
        "# Creando un tipo de polinomios\n",
        "\n",
        "## Estructuras {auto-animate=true}\n",
        "\n",
        "Creamos una estructura para polinomios de coeficientes reales.\n",
        "\n",
        "Basta con almacenar los coeficientes"
      ]
    },
    {
      "cell_type": "code",
      "metadata": {},
      "source": [
        "struct Poly\n",
        "    coeff::Vector{Float64} # [a₀, a₁,... , aₙ]\n",
        "end"
      ],
      "execution_count": null,
      "outputs": []
    },
    {
      "cell_type": "markdown",
      "metadata": {},
      "source": [
        "## Multiple dispatch. Funciones sobre polinomios\n",
        "\n",
        "Vamos a extender la funciones `iszero` y `+`. Para ello, creamos primero la función `degree`"
      ]
    },
    {
      "cell_type": "code",
      "metadata": {},
      "source": [
        "function degree(P::Poly)\n",
        "    k = length(P.coeff)\n",
        "    while k ≥ 1 && iszero(P.coeff[k])\n",
        "        k = k - 1\n",
        "    end\n",
        "    return k - 1\n",
        "end"
      ],
      "execution_count": null,
      "outputs": []
    },
    {
      "cell_type": "markdown",
      "metadata": {},
      "source": [
        "Esto funciona para algunos polinomios, pero no para otros. Para esto \n",
        "\n",
        "Vamos a hacer una función `iszero` para polinomios"
      ]
    },
    {
      "cell_type": "code",
      "metadata": {},
      "source": [
        "import Base: iszero, isequal\n",
        "\n",
        "function iszero(P::Poly)\n",
        "    return (degree(P) < 0)\n",
        "end"
      ],
      "execution_count": null,
      "outputs": []
    },
    {
      "cell_type": "markdown",
      "metadata": {},
      "source": [
        "## Multiple dispatch. Operaciones"
      ]
    },
    {
      "cell_type": "code",
      "metadata": {},
      "source": [
        "#| code-line-numbers: \"1-2|2-7|8-12|\"\n",
        "\n",
        "import Base: +\n",
        "function +(a::Poly, b::Poly)\n",
        "    if degree(a) < 0\n",
        "        return b\n",
        "    elseif degree(b) < 0\n",
        "        return a\n",
        "    else\n",
        "        da = degree(a)\n",
        "        db = degree(b)\n",
        "        return Poly(\n",
        "            [a.coeff[1:da+1]; zeros(max(db - da, 0))]\n",
        "            +\n",
        "            [b.coeff[1:db+1]; zeros(max(da - db, 0))]\n",
        "        )\n",
        "    end\n",
        "end"
      ],
      "execution_count": null,
      "outputs": []
    },
    {
      "cell_type": "markdown",
      "metadata": {},
      "source": [
        ". . ."
      ]
    },
    {
      "cell_type": "code",
      "metadata": {},
      "source": [
        "P = Poly([0,1,2])\n",
        "print(\"P+P = \", P+P)"
      ],
      "execution_count": null,
      "outputs": []
    },
    {
      "cell_type": "markdown",
      "metadata": {},
      "source": [
        "## Haciéndolo bonito"
      ]
    },
    {
      "cell_type": "code",
      "metadata": {},
      "source": [
        "function Base.show(io::IO,P::Poly) \n",
        "    degreeP = degree(P)\n",
        "    if degreeP < 0\n",
        "        text = \"0\"\n",
        "    else\n",
        "        text = \"$(P.coeff[1])\"\n",
        "        for n = 2:degreeP + 1\n",
        "            text = text * \" + $(P.coeff[n])\" * \"x^$(n-1)\"\n",
        "        end\n",
        "    end\n",
        "    print(text)\n",
        "    return nothing\n",
        "end;"
      ],
      "execution_count": null,
      "outputs": []
    },
    {
      "cell_type": "code",
      "metadata": {},
      "source": [
        "P = Poly([0,1,2])\n",
        "print(P)"
      ],
      "execution_count": null,
      "outputs": []
    },
    {
      "cell_type": "markdown",
      "metadata": {},
      "source": [
        "## Otras operaciones"
      ]
    },
    {
      "cell_type": "code",
      "metadata": {},
      "source": [
        "P = Poly([0,1,0])\n",
        "print(\"degree(P) = \", degree(P))"
      ],
      "execution_count": null,
      "outputs": []
    },
    {
      "cell_type": "code",
      "metadata": {},
      "source": [
        "#| code-line-numbers: \"1-2,6-10\"\n",
        "\n",
        "import Base: *\n",
        "function *(a::Poly,b::Poly)\n",
        "    da = degree(a); db = degree(b);\n",
        "    prodcoeffs = zeros(da+db+1);\n",
        "    for k=0:(da+db)\n",
        "        rangei = max(0,k-db):min(k,da)\n",
        "        prodcoeffs[k+1] = sum(  a.coeff[1   .+ rangei] .*\n",
        "                                b.coeff[k+1 .- rangei]);\n",
        "    end\n",
        "    return Poly(prodcoeffs)\n",
        "end"
      ],
      "execution_count": null,
      "outputs": []
    },
    {
      "cell_type": "markdown",
      "metadata": {},
      "source": [
        ". . ."
      ]
    },
    {
      "cell_type": "code",
      "metadata": {},
      "source": [
        "import Base: -, ==\n",
        "function -(a::Poly, b::Poly)\n",
        "    return a + Poly([-1]) * b\n",
        "end\n",
        "\n",
        "function ==(P::Poly, Q::Poly)\n",
        "    return iszero(P - Q)\n",
        "end"
      ],
      "execution_count": null,
      "outputs": []
    },
    {
      "cell_type": "markdown",
      "metadata": {},
      "source": [
        "Ahora ya podemos usar "
      ]
    },
    {
      "cell_type": "code",
      "metadata": {},
      "source": [
        "using Test"
      ],
      "execution_count": null,
      "outputs": []
    },
    {
      "cell_type": "markdown",
      "metadata": {},
      "source": [
        "---"
      ]
    },
    {
      "cell_type": "code",
      "metadata": {},
      "source": [
        "P = Poly([0, 1, 2])\n",
        "@test P * P == Poly([0.0, 0.0, 1.0, 4.0, 4.0])\n",
        "@test P - P == Poly([0.0])"
      ],
      "execution_count": null,
      "outputs": []
    },
    {
      "cell_type": "markdown",
      "metadata": {},
      "source": [
        "# El algoritmo de Euclides\n",
        "\n",
        "<!-- Some introduction before -->\n",
        "\n",
        "\n",
        "## Para números enteros"
      ]
    },
    {
      "cell_type": "code",
      "metadata": {},
      "source": [
        "function gcd(a, b)\n",
        "    if iszero(b)\n",
        "        return a\n",
        "    else\n",
        "        return gcd(b, a % b)\n",
        "    end\n",
        "end\n",
        "\n",
        "@test gcd(30, 15) == 15"
      ],
      "execution_count": null,
      "outputs": []
    },
    {
      "cell_type": "markdown",
      "metadata": {},
      "source": [
        "## Extensión a polinomios\n",
        "\n",
        "Podemos extender `gcd` a cualquier lugar con `iszero` y `%`. \n",
        "\n",
        ". . .\n",
        "\n",
        "Queremos ***extender*** la funciones anteriores anterior, de modo que `gcd` funcione ***sin cambios***\n",
        "\n",
        ". . .\n",
        "\n",
        "Por esto julia es uno de los lenguajes con más reciclaje de código. \n",
        "\n",
        "Creamos una estructura para polinomios de coeficientes reales.\n",
        "\n",
        "Basta con almacenar los coeficientes.\n",
        "\n",
        "## Añadiendo `%` a `Poly`"
      ]
    },
    {
      "cell_type": "code",
      "metadata": {},
      "source": [
        "import Base: %\n",
        "function %(a::Poly, b::Poly)\n",
        "    if degree(a) < 0 # a = 0\n",
        "        error(\"¡No dividas por 0!\")\n",
        "    end\n",
        "\n",
        "    r = a             # En cada paso a = b * q + r\n",
        "\n",
        "    while degree(r) ≥ degree(b)\n",
        "        s = Poly([zeros(degree(r) - degree(b)); lead(r) / lead(b)])\n",
        "        r = r - s * b\n",
        "    end\n",
        "\n",
        "    return r\n",
        "end"
      ],
      "execution_count": null,
      "outputs": []
    },
    {
      "cell_type": "markdown",
      "metadata": {},
      "source": [
        "Se puede usar la siguiente función auxiliar"
      ]
    },
    {
      "cell_type": "code",
      "metadata": {},
      "source": [
        "function lead(P::Poly)\n",
        "    if degree(P) < 0\n",
        "        return 0.0\n",
        "    else\n",
        "        return P.coeff[degree(P)+1]\n",
        "    end\n",
        "end"
      ],
      "execution_count": null,
      "outputs": []
    },
    {
      "cell_type": "markdown",
      "metadata": {},
      "source": [
        ". . ."
      ]
    },
    {
      "cell_type": "code",
      "metadata": {},
      "source": [
        "R = Poly([2])\n",
        "Q = Poly([-3, 1])\n",
        "P = Q * Q * Q + R\n",
        "\n",
        "@test P % Q == R"
      ],
      "execution_count": null,
      "outputs": []
    },
    {
      "cell_type": "markdown",
      "metadata": {},
      "source": [
        "## Grand finale\n",
        "\n",
        "Lanzamos la función gcd ¡que nunca oyó hablar de polinomios! Y obtenemos \n",
        "\n",
        ". . ."
      ]
    },
    {
      "cell_type": "code",
      "metadata": {},
      "source": [
        "Q = Poly([-3, 1])\n",
        "P = Q * Q * Q\n",
        "\n",
        "@test gcd(P, Q) == Q"
      ],
      "execution_count": null,
      "outputs": []
    }
  ],
  "metadata": {
    "kernelspec": {
      "name": "julia-1.11",
      "language": "julia",
      "display_name": "Julia 1.11.3",
      "path": "/Users/david/Library/Jupyter/kernels/julia-1.11"
    }
  },
  "nbformat": 4,
  "nbformat_minor": 4
}