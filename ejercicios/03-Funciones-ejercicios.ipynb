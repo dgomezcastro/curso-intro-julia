{
  "cells": [
    {
      "cell_type": "markdown",
      "metadata": {},
      "source": [
        "---\n",
        "title: \"Funciones. Multiple dispatch\"\n",
        "subtitle: \"Ejercicios\"\n",
        "---"
      ]
    },
    {
      "cell_type": "markdown",
      "metadata": {},
      "source": [
        "## Ejercicio 1. Sucesión de Fibonacci mediante recursión\n",
        "\n",
        "Calcule el elemento $n$-ésimo de la sucesión de Fibonacci usando recursión"
      ]
    },
    {
      "cell_type": "code",
      "execution_count": null,
      "metadata": {},
      "outputs": [],
      "source": []
    },
    {
      "cell_type": "markdown",
      "metadata": {},
      "source": [
        "\n",
        "## Ejercicio 2. Suma cuadrados\n",
        "\n",
        "Escriba una función llamada `suma_cuadrados` que acepte el número natural $n$ y devuelva la suma $1^2 + 2^2 + \\cdots + (n-1)^2 + n^2$"
      ]
    },
    {
      "cell_type": "code",
      "execution_count": null,
      "metadata": {},
      "outputs": [],
      "source": []
    },
    {
      "cell_type": "code",
      "execution_count": null,
      "metadata": {},
      "outputs": [],
      "source": [
        "using Test\n",
        "@test suma_cuadrados(1) == 1\n",
        "@test suma_cuadrados(2) == 9\n",
        "@test suma_cuadrados(100) == 338350"
      ]
    },
    {
      "cell_type": "markdown",
      "metadata": {},
      "source": [
        "## Ejercicio 3. FizzBuzz\n",
        "\n",
        "Escribe una función llamada `fizz_buzz` que acepte un número y\n",
        "- Si el número es divisible por 3 pero no 5, escriba \"Fizz\" (sin comillas)\n",
        "- Si el número es divisible por 5 pero no 3, escriba \"Buzz\" (sin comillas)\n",
        "- Si el número es divisible por 3 y 5, escriba \"FizzBuzz\" (sin comillas)\n",
        "- En otro caso, escriba el propio número\n"
      ]
    },
    {
      "cell_type": "code",
      "execution_count": null,
      "metadata": {},
      "outputs": [],
      "source": []
    },
    {
      "cell_type": "code",
      "execution_count": null,
      "metadata": {},
      "outputs": [],
      "source": [
        "@test fizz_buzz(1) == 1\n",
        "@test fizz_buzz(3) == \"Fizz\"\n",
        "@test fizz_buzz(5) == \"Buzz\"\n",
        "@test fizz_buzz(15) == \"FizzBuzz\"\n",
        "@test fizz_buzz(16) == 16"
      ]
    },
    {
      "cell_type": "markdown",
      "metadata": {},
      "source": [
        "## Ejercicio 4. El algoritmo de Euclides para polinomios, y múltiple dispatch"
      ]
    },
    {
      "cell_type": "markdown",
      "metadata": {},
      "source": [
        "### El algoritmo de Euclides para números enteros"
      ]
    },
    {
      "cell_type": "markdown",
      "metadata": {},
      "source": [
        "Recordamos el famoso algoritmo para calcular el mayor común divisor (*gcd* en inglés). Utiliza el resto de la división entre naturales, denotado `%`"
      ]
    },
    {
      "cell_type": "code",
      "execution_count": null,
      "metadata": {},
      "outputs": [],
      "source": [
        "function my_gcd(a, b)\n",
        "    if iszero(b)\n",
        "        return a\n",
        "    else\n",
        "        return gcd(b, a % b)\n",
        "    end\n",
        "end;"
      ]
    },
    {
      "cell_type": "markdown",
      "metadata": {},
      "source": [
        "Es fácil comprobar que funciona"
      ]
    },
    {
      "cell_type": "code",
      "execution_count": null,
      "metadata": {},
      "outputs": [],
      "source": [
        "using Test\n",
        "@testset \"my_gcd funciona\" begin\n",
        "    @test my_gcd(8, 4) == 4\n",
        "    @test my_gcd(21, 14) == 7\n",
        "end;"
      ]
    },
    {
      "cell_type": "markdown",
      "metadata": {},
      "source": [
        "La gran ventaja de `julia` es que cualquier `struct` que implemente `iszero` y `%` (también llamado `rem`) puede pasar a través de `my_gcd`. "
      ]
    },
    {
      "cell_type": "markdown",
      "metadata": {},
      "source": [
        "Disponemos de un paquete ya implementado para polinomios, que se llama [`Polynomials.jl`](https://juliamath.github.io/Polynomials.jl/stable/). \n",
        "Tiene además una representación bastante agradable de los polinomios"
      ]
    },
    {
      "cell_type": "code",
      "execution_count": null,
      "metadata": {},
      "outputs": [],
      "source": [
        "using Polynomials\n",
        "P = Polynomial([0, 1])"
      ]
    },
    {
      "cell_type": "markdown",
      "metadata": {},
      "source": [
        "Además, implementa `%`"
      ]
    },
    {
      "cell_type": "code",
      "execution_count": null,
      "metadata": {},
      "outputs": [],
      "source": [
        "P, R = Polynomial([0, 1, 1]), Polynomial([1, 0])\n",
        "@test (P * P * P + R) % P == R"
      ]
    },
    {
      "cell_type": "markdown",
      "metadata": {},
      "source": [
        "Veamos que efectivamente funciona esta implementación"
      ]
    },
    {
      "cell_type": "code",
      "execution_count": null,
      "metadata": {},
      "outputs": [],
      "source": [
        "P = Polynomial([0, 1, 1])\n",
        "@test my_gcd(P, P * P) == P"
      ]
    },
    {
      "cell_type": "markdown",
      "metadata": {},
      "source": [
        "### Nuestra propia estructura de polinomios\n",
        "\n",
        "Para ver que esto realmente funciona, vamos a crear nuestra propia estructura de polinomios"
      ]
    },
    {
      "cell_type": "code",
      "execution_count": null,
      "metadata": {},
      "outputs": [],
      "source": [
        "struct Poly\n",
        "    coeff::Vector{Float64} # [a₀, a₁,... , aₙ]\n",
        "end"
      ]
    },
    {
      "cell_type": "markdown",
      "metadata": {},
      "source": [
        "Vamos a extender la funciones `iszero` y `%`. \n",
        "La evitar problemas de comparación en `float` aprovechamos la función `iszero` para Arrays"
      ]
    },
    {
      "cell_type": "code",
      "execution_count": null,
      "metadata": {},
      "outputs": [],
      "source": [
        "import Base: iszero, isequal\n",
        "\n",
        "function iszero(P::Poly)\n",
        "    return iszero(P.coeffs)\n",
        "end"
      ]
    },
    {
      "cell_type": "markdown",
      "metadata": {},
      "source": [
        "Para la división necesitaremos otras operaciones antes. Por ejemplos el grado de un polinomio"
      ]
    },
    {
      "cell_type": "code",
      "execution_count": null,
      "metadata": {},
      "outputs": [],
      "source": [
        "function degree(P::Poly)\n",
        "    if iszero(P)\n",
        "        return -1\n",
        "    else\n",
        "        k = length(P.coeff)\n",
        "        while k ≥ 1 && iszero(P.coeff[k])\n",
        "            k = k - 1\n",
        "        end\n",
        "        return k - 1\n",
        "    end\n",
        "end"
      ]
    },
    {
      "cell_type": "markdown",
      "metadata": {},
      "source": [
        "y la suma"
      ]
    },
    {
      "cell_type": "code",
      "execution_count": null,
      "metadata": {},
      "outputs": [],
      "source": [
        "import Base: +\n",
        "function +(a::Poly, b::Poly)\n",
        "    if degree(a) < 0\n",
        "        return b\n",
        "    elseif degree(b) < 0\n",
        "        return a\n",
        "    else\n",
        "        da = degree(a)\n",
        "        db = degree(b)\n",
        "        return Poly(\n",
        "            [a.coeff[1:da+1]; zeros(max(db - da, 0))]\n",
        "            +\n",
        "            [b.coeff[1:db+1]; zeros(max(da - db, 0))]\n",
        "        )\n",
        "    end\n",
        "end"
      ]
    },
    {
      "cell_type": "markdown",
      "metadata": {},
      "source": [
        "Recordamos que puede implementarse la división entre polinomios mediante "
      ]
    },
    {
      "cell_type": "code",
      "execution_count": null,
      "metadata": {},
      "outputs": [],
      "source": [
        "function %(a::Poly, b::Poly)\n",
        "    if iszero(a)\n",
        "        error(\"¡No dividas por 0!\")\n",
        "    end\n",
        "\n",
        "    # En cada paso a = b * q + r\n",
        "    r = a\n",
        "    while degree(r) ≥ degree(b)\n",
        "        s = Poly([zeros(degree(r) - degree(b)); lead(r) / lead(b)])\n",
        "        r = r - s * b\n",
        "    end\n",
        "    return r\n",
        "end"
      ]
    },
    {
      "cell_type": "markdown",
      "metadata": {},
      "source": [
        "**Ejercicio.** Extiender `-` y `*` a `Poly` para que `%` funcione, y compruebar que, entonces,`my_gcd` funciona."
      ]
    },
    {
      "cell_type": "code",
      "execution_count": null,
      "metadata": {},
      "outputs": [],
      "source": [
        "P = Poly([0, 1, 1])\n",
        "@test my_gcd(P, P * P) == P"
      ]
    }
  ],
  "metadata": {
    "kernelspec": {
      "display_name": "Julia 1.11.3",
      "language": "julia",
      "name": "julia-1.11"
    },
    "language_info": {
      "file_extension": ".jl",
      "mimetype": "application/julia",
      "name": "julia",
      "version": "1.11.3"
    }
  },
  "nbformat": 4,
  "nbformat_minor": 4
}
